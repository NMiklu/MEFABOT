{
 "cells": [
  {
   "cell_type": "code",
   "execution_count": null,
   "metadata": {},
   "outputs": [],
   "source": [
    "import general_robotics_toolbox as grt\n",
    "import general_robotics_toolbox_invkin as igrt\n",
    "from Arm_Lib import *\n",
    "import numpy as np\n",
    "import time\n",
    "import math\n",
    "\n",
    "#GLOBALS\n",
    "NUM_JOINTS = 5\n",
    "MIN_ANGLES = np.deg2rad(np.array([0,0,0,0,0]))\n",
    "MAX_ANGLES = np.deg2rad(np.array([180,180,180,180,270]))\n",
    "ZERO_CONFIG = np.deg2rad(np.array([90,90,90,90,135]))\n",
    "in_2_m = 0.0254"
   ]
  },
  {
   "cell_type": "code",
   "execution_count": null,
   "metadata": {},
   "outputs": [],
   "source": [
    "def eq_config(robot, config):\n",
    "    # robot: Robot Object\n",
    "    # config: list/tuple/array of angles whose length is equal \n",
    "    #           to that of the robot's number of joints\n",
    "    # returns: an equivalent config that is within joint limits or None if not possible\n",
    "    assert(len(config) == len(robot.joint_lower_limit))\n",
    "    new_angles = [None]*len(config)\n",
    "    for i in range(len(config)):\n",
    "        new_angles[i] = config[i]\n",
    "        theta = config[i]\n",
    "        if theta < robot.joint_lower_limit[i] or theta > robot.joint_upper_limit[i]:\n",
    "            up = theta + np.pi*2\n",
    "            dw = theta - np.pi*2\n",
    "            if up > robot.joint_lower_limit[i] and up < robot.joint_upper_limit[i]:\n",
    "                new_angles[i] = up\n",
    "            elif dw > robot.joint_lower_limit[i] and dw < robot.joint_upper_limit[i]:\n",
    "                new_angles[i] = dw\n",
    "            else:\n",
    "                return None\n",
    "    return np.array(new_angles)"
   ]
  },
  {
   "cell_type": "code",
   "execution_count": null,
   "metadata": {},
   "outputs": [],
   "source": [
    "def digest_possible_configs(robot,configs):\n",
    "    # robot: Robot Object\n",
    "    # configs: (tuple of tuples) of possible configurations\n",
    "    #           for the robot\n",
    "    # returns: all configurations that are within\n",
    "    #           the joint limits\n",
    "    for i in range(len(configs)):\n",
    "        assert(len(robot.joint_lower_limit) == len(configs[i]))\n",
    "        assert(len(robot.joint_upper_limit) == len(configs[i]))\n",
    "\n",
    "    new_configs = [None]*len(configs)\n",
    "    num_invalid = 0\n",
    "    for j in range(len(configs)):\n",
    "        new_configs[i] = eq_config(robot,configs[i])\n",
    "        if new_configs[i].any() == None:\n",
    "            num_invalid += 1\n",
    "    if (len(configs)-num_invalid) != 0:\n",
    "        rv = [None]*(len(configs)-num_invalid)\n",
    "    else:\n",
    "        return None\n",
    "    idx = 0\n",
    "    for i in range(len(configs)):\n",
    "        if new_configs[i] is not None:\n",
    "            rv[idx] = new_configs[i]\n",
    "            idx += 1\n",
    "    return np.array(rv)\n",
    "        "
   ]
  },
  {
   "cell_type": "code",
   "execution_count": null,
   "metadata": {},
   "outputs": [],
   "source": [
    "def write_arm_deg(Arm,angles,d_time):\n",
    "        \"\"\"Writes angles to arm where angles\n",
    "            where angles is a numpy array of 5 integers.\"\"\"\n",
    "        for i in range(1,6):\n",
    "            Arm.Arm_serial_servo_write(i,angles[i-1],d_time)"
   ]
  },
  {
   "cell_type": "code",
   "execution_count": null,
   "metadata": {},
   "outputs": [],
   "source": [
    "def getCurrentJointAngles():\n",
    "    Arm = Arm_Lib.Arm_Device()\n",
    "    angles = [0,0,0,0,0]\n",
    "    for i in range(1,6):\n",
    "        angles[i-1] = Arm.Arm_serial_servo_read(i)\n",
    "    return angles"
   ]
  },
  {
   "cell_type": "code",
   "execution_count": null,
   "metadata": {},
   "outputs": [],
   "source": [
    "def dofbot_robot():\n",
    "    \"\"\"REturns an approximate Robot instance for a DOFBOT robot\"\"\"\n",
    "    x = np.array([1,0,0])\n",
    "    y = np.array([0,1,0])\n",
    "    z = np.array([0,0,1])\n",
    "    a = np.array([0,0,0])\n",
    "    \n",
    "    H = np.array([z,y,y,y,z]).T\n",
    "    P = np.array([4.5*z,a,3.5*z,3.5*z,3.0*z,4.5*z]).T*in_2_m\n",
    "    JTs = [0,0,0,0,0]\n",
    "    return grt.Robot(H,P,JTs,MIN_ANGLES,MAX_ANGLES)"
   ]
  },
  {
   "cell_type": "code",
   "execution_count": null,
   "metadata": {},
   "outputs": [],
   "source": [
    "def generate_path(robot, desired_pose, q_current, iterations, tolerance=1e-4):\n",
    "    \"\"\"\n",
    "        robot: Robot Object\n",
    "        desired_pose: Transform Object; the desired pose of the robot -> gotten from fwdkin\n",
    "        q_current: current joint angles ( in rad ) -> gotten from np.deg2rad(getCurrentJointAngles())\n",
    "        iterations: positive integer -> Number of subpaths generated -> smaller means less accurate.\n",
    "                    (aka 1/Lambda)\n",
    "        tolerance: positive integer -> convergence tolerance ( read return below )\n",
    "        returns: list of consecutive configs where the start config is the current\n",
    "                    and the final config is as close to the desired_pose as possible (within tolerance)\n",
    "    \"\"\"\n",
    "    path = np.array(np.array([q_current] + ([None]*(iterations-1))))\n",
    "    scale_factor = 1/(iterations-1)\n",
    "    initial_pose = grt.fwdkin(robot,q_current)\n",
    "    poses = np.array([initial_pose] + ([None]*(iterations-1)))\n",
    "    \n",
    "    p_initial = initial_pose.p\n",
    "    p_final = desired_pose.p\n",
    "    r_initial = initial_pose.R\n",
    "    r_final = desired_pose.R\n",
    "    p_iteration = (p_final - p_initial)*scale_factor\n",
    "    r_iteration = (r_final - r_initial)*scale_factor\n",
    "    for scaled_lambda in range(1,iterations):\n",
    "        previous_p = poses[scaled_lambda-1].p\n",
    "        previous_r = poses[scaled_lambda-1].R\n",
    "        this_pose = grt.Transform(p=previous_p+p_iteration,R=previous_r+r_iteration)\n",
    "        # TODO instead of just putting calculated pose -> move thena\n",
    "        #       check the current pose and adjust an error metric\n",
    "        poses[scaled_lambda] = this_pose\n",
    "        q_invkin = igrt.iterative_invkin(robot,this_pose,path[scaled_lambda-1])\n",
    "        configs = digest_possible_configs(robot,q_invkin[1])\n",
    "        # TODO Select min distance config from current config\n",
    "        path[scaled_lambda] = configs[0]\n",
    "\n",
    "        print(\"path[\" +str(scaled_lambda) + \"]:\")\n",
    "        print(path[scaled_lambda])\n",
    "\n",
    "    return path"
   ]
  },
  {
   "cell_type": "code",
   "execution_count": null,
   "metadata": {},
   "outputs": [],
   "source": [
    "def main():\n",
    "    MEFA_BOT = dofbot_robot()\n",
    "    TEST1 = [90,90,90,50,135]\n",
    "    desired_pose = grt.fwdkin(MEFA_BOT,np.deg2rad(np.array(TEST1)))\n",
    "    print(\"desired_pose:\")\n",
    "    print(desired_pose)\n",
    "    angles = np.deg2rad(getCurrentJointAngles())\n",
    "    qs = igrt.iterative_invkin(MEFA_BOT,desired_pose,angles,max_steps=250)\n",
    "    print(\"desired angles: \")\n",
    "    print(TEST1)\n",
    "    print(np.rad2deg(qs[1]))\n",
    "    oh_god_please = digest_possible_configs(MEFA_BOT,qs[1])\n",
    "    if oh_god_please is not None:\n",
    "        print(np.rad2deg(oh_god_please[0]))\n",
    "\n",
    "    print(\"BEGIN PATH TEST\")\n",
    "    final_pose = grt.fwdkin(MEFA_BOT,np.deg2rad(np.array(TEST1)))\n",
    "    new_path = generate_path(MEFA_BOT,final_pose,np.deg2rad(getCurrentJointAngles()),20)\n",
    "    print(new_path)\n",
    "    "
   ]
  },
  {
   "cell_type": "code",
   "execution_count": 51,
   "metadata": {},
   "outputs": [
    {
     "name": "stdout",
     "output_type": "stream",
     "text": [
      "--STARTING--\n",
      "R = [[1. 0. 0.]\n",
      "     [0. 1. 0.]\n",
      "     [0. 0. 1.]]\n",
      "p = [0.     0.     0.4826]\n",
      "\n",
      "\n",
      "--END--\n"
     ]
    }
   ],
   "source": [
    "if __name__ == \"__main__\":\n",
    "    Arm = Arm_Lib.Arm_Device()\n",
    "    write_arm_deg(Arm,np.rad2deg(ZERO_CONFIG),50)\n",
    "    print(\"--STARTING--\")\n",
    "    time.sleep(.2)\n",
    "    main()\n",
    "    print(\"--END--\")\n",
    "    del Arm\n",
    "    "
   ]
  },
  {
   "cell_type": "code",
   "execution_count": null,
   "metadata": {},
   "outputs": [],
   "source": [
    "\n"
   ]
  }
 ],
 "metadata": {
  "kernelspec": {
   "display_name": "Python 3",
   "language": "python",
   "name": "python3"
  },
  "language_info": {
   "codemirror_mode": {
    "name": "ipython",
    "version": 3
   },
   "file_extension": ".py",
   "mimetype": "text/x-python",
   "name": "python",
   "nbconvert_exporter": "python",
   "pygments_lexer": "ipython3",
   "version": "3.6.9"
  }
 },
 "nbformat": 4,
 "nbformat_minor": 4
}

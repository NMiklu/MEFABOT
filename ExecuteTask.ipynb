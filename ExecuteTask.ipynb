{
 "cells": [
  {
   "cell_type": "code",
   "execution_count": 46,
   "metadata": {},
   "outputs": [],
   "source": [
    "import general_robotics_toolbox as grt\n",
    "from Arm_Lib import *\n",
    "import numpy as np\n",
    "import time\n",
    "\n",
    "#GLOBALS\n",
    "NUM_JOINTS = 5\n",
    "MIN_ANGLES = np.deg2rad(np.array([-90,-90,-90,-90,-135]))\n",
    "MAX_ANGLES = np.deg2rad(np.array([90,90,90,90,135]))\n",
    "ZERO_CONFIG = np.deg2rad(np.array([0,0,0,0,0]))\n",
    "in_2_m = 0.0254"
   ]
  },
  {
   "cell_type": "code",
   "execution_count": 47,
   "metadata": {},
   "outputs": [],
   "source": [
    "def write_arm_deg(Arm,angles,d_time):\n",
    "        \"\"\"Writes angles to arm where angles\n",
    "            where angles is a numpy array of 5 integers.\"\"\"\n",
    "        phi = angles + np.array([90,90,90,90,135])\n",
    "        for i in range(1,6):\n",
    "            Arm.Arm_serial_servo_write(i,phi[i-1],d_time)"
   ]
  },
  {
   "cell_type": "code",
   "execution_count": 48,
   "metadata": {},
   "outputs": [],
   "source": [
    "def dofbot_robot():\n",
    "    \"\"\"REturns an approximate Robot instance for a DOFBOT robot\"\"\"\n",
    "    x = np.array([1,0,0])\n",
    "    y = np.array([0,1,0])\n",
    "    z = np.array([0,0,1])\n",
    "    a = np.array([0,0,0])\n",
    "    \n",
    "    H = np.array([z,y,y,y,z]).T\n",
    "    P = np.array([4.5z,a,3.5*z,3.5*z,3.0*z,4.5*z]).T*in_2_m\n",
    "    JTs = [0,0,0,0,0]\n",
    "    return grt.Robot(H,P,JTs,MIN_ANGLES,MAX_ANGLES)"
   ]
  },
  {
   "cell_type": "code",
   "execution_count": 50,
   "metadata": {},
   "outputs": [],
   "source": [
    "def main():\n",
    "    MEFA_BOT = dofbot_robot()\n",
    "    pose = grt.fwdkin(MEFA_BOT,np.zeros(5))\n",
    "    print(pose)\n",
    "    \n",
    "    "
   ]
  },
  {
   "cell_type": "code",
   "execution_count": 51,
   "metadata": {},
   "outputs": [
    {
     "name": "stdout",
     "output_type": "stream",
     "text": [
      "--STARTING--\n",
      "R = [[1. 0. 0.]\n",
      "     [0. 1. 0.]\n",
      "     [0. 0. 1.]]\n",
      "p = [0.     0.     0.4826]\n",
      "\n",
      "\n",
      "--END--\n"
     ]
    }
   ],
   "source": [
    "if __name__ == \"__main__\":\n",
    "    Arm = Arm_Lib.Arm_Device()\n",
    "    write_arm_deg(Arm,ZERO_CONFIG,50)\n",
    "    print(\"--STARTING--\")\n",
    "    time.sleep(.2)\n",
    "    main()\n",
    "    print(\"--END--\")\n",
    "    del Arm\n",
    "    "
   ]
  },
  {
   "cell_type": "code",
   "execution_count": null,
   "metadata": {},
   "outputs": [],
   "source": [
    "\n"
   ]
  }
 ],
 "metadata": {
  "kernelspec": {
   "display_name": "Python 3",
   "language": "python",
   "name": "python3"
  },
  "language_info": {
   "codemirror_mode": {
    "name": "ipython",
    "version": 3
   },
   "file_extension": ".py",
   "mimetype": "text/x-python",
   "name": "python",
   "nbconvert_exporter": "python",
   "pygments_lexer": "ipython3",
   "version": "3.6.9"
  }
 },
 "nbformat": 4,
 "nbformat_minor": 4
}

{
 "cells": [
  {
   "cell_type": "code",
   "execution_count": 46,
   "metadata": {},
   "outputs": [],
   "source": [
    "import general_robotics_toolbox as grt\n",
    "from Arm_Lib import *\n",
    "import numpy as np\n",
    "import time\n",
    "\n",
    "#GLOBALS\n",
    "NUM_JOINTS = 5\n",
    "MIN_ANGLES = np.deg2rad(np.array([-90,-90,-90,-90,-135]))\n",
    "MAX_ANGLES = np.deg2rad(np.array([90,90,90,90,135]))\n",
    "ZERO_CONFIG = np.deg2rad(np.array([0,0,0,0,0]))\n",
    "in_2_m = 0.0254"
   ]
  },
  {
   "cell_type": "code",
   "execution_count": null,
   "metadata": {},
   "outputs": [],
   "source": [
    "def invkin(robot, desired_pose, q_current,max_steps=200,Kp=0.3*np.eye(3),KR= 0.3*np.eye(3), tol = 1e-4):\n",
    "    R_d = desired_pose.R\n",
    "    p_d = desired_pose.P\n",
    "    d_q = q_current\n",
    "    num_j = NUM_JOINTS\n",
    "    norm = grt.normalize_joints(robot,q_current,_ignore_limits=True)\n",
    "    q_cur = d_q # inital guess on current joint angles\n",
    "    q_cur = q_cur.reshape((num_j,1))\n",
    "    iterations = 0\n",
    "    converged = False\n",
    "    while iterations < max_steps and not converged:\n",
    "        pose = grt.fwdkin(robot,q_cur.flatten(),_ignore_limits=True)\n",
    "        R_cur = pose.R\n",
    "        p_cur = pose.p\n",
    "        J0T = grt.robotjacobian(robot,q_cur.flatten(),_ignore_limits = True)\n",
    "        # Transform jacobian to EE frame ( from base frame )\n",
    "        Tr = np.zeros((5,5))\n",
    "        Tr[:3,:3] = R_cur.T\n",
    "        Tr[3:,3:] = R_cur.T\n",
    "        J0T = np.matmul(Tr,J0T)\n",
    "        ER = np.matmul(np.transpose(R_d),R_cur)\n",
    "        EP = np.matmul(R_cur.T,(p_cur - p_d))\n",
    "\n",
    "        k, theta = grt.R2rot(ER)\n",
    "        s = np.sin(theta/2) * np.array(k)\n",
    "        vd = np.matmul(Kp,EP)\n",
    "        wd = np.matmul(KR,s)\n",
    "        b = np.concatenate([wd,vd])\n",
    "        delta = np.matmul(np.linalg.pinv(J0T),b)\n",
    "        converged = (np.abs(np.hstack((s,EP)))<tol).all()\n",
    "        if not converged:\n",
    "            q_cur = q_cur - delta.reshape((num_j,1))\n",
    "        iterations += 1\n",
    "    \n",
    "\n",
    "    q_normed = grt.normalize(np.arange(num_j),[np.squeeze(q_cur)])\n",
    "    return converged, q_normed\n",
    "\n"
   ]
  },
  {
   "cell_type": "code",
   "execution_count": 47,
   "metadata": {},
   "outputs": [],
   "source": [
    "def write_arm_deg(Arm,angles,d_time):\n",
    "        \"\"\"Writes angles to arm where angles\n",
    "            where angles is a numpy array of 5 integers.\"\"\"\n",
    "        phi = angles + np.array([90,90,90,90,135])\n",
    "        for i in range(1,6):\n",
    "            Arm.Arm_serial_servo_write(i,phi[i-1],d_time)"
   ]
  },
  {
   "cell_type": "code",
   "execution_count": 48,
   "metadata": {},
   "outputs": [],
   "source": [
    "def dofbot_robot():\n",
    "    \"\"\"REturns an approximate Robot instance for a DOFBOT robot\"\"\"\n",
    "    x = np.array([1,0,0])\n",
    "    y = np.array([0,1,0])\n",
    "    z = np.array([0,0,1])\n",
    "    a = np.array([0,0,0])\n",
    "    \n",
    "    H = np.array([z,y,y,y,z]).T\n",
    "    P = np.array([4.5*z,a,3.5*z,3.5*z,3.0*z,4.5*z]).T*in_2_m\n",
    "    JTs = [0,0,0,0,0]\n",
    "    return grt.Robot(H,P,JTs,MIN_ANGLES,MAX_ANGLES)"
   ]
  },
  {
   "cell_type": "code",
   "execution_count": 50,
   "metadata": {},
   "outputs": [],
   "source": [
    "def main():\n",
    "    MEFA_BOT = dofbot_robot()\n",
    "    pose = grt.fwdkin(MEFA_BOT,np.zeros(5))\n",
    "    print(pose)\n",
    "    \n",
    "    "
   ]
  },
  {
   "cell_type": "code",
   "execution_count": 51,
   "metadata": {},
   "outputs": [
    {
     "name": "stdout",
     "output_type": "stream",
     "text": [
      "--STARTING--\n",
      "R = [[1. 0. 0.]\n",
      "     [0. 1. 0.]\n",
      "     [0. 0. 1.]]\n",
      "p = [0.     0.     0.4826]\n",
      "\n",
      "\n",
      "--END--\n"
     ]
    }
   ],
   "source": [
    "if __name__ == \"__main__\":\n",
    "    Arm = Arm_Lib.Arm_Device()\n",
    "    write_arm_deg(Arm,ZERO_CONFIG,50)\n",
    "    print(\"--STARTING--\")\n",
    "    time.sleep(.2)\n",
    "    main()\n",
    "    print(\"--END--\")\n",
    "    del Arm\n",
    "    "
   ]
  },
  {
   "cell_type": "code",
   "execution_count": null,
   "metadata": {},
   "outputs": [],
   "source": [
    "\n"
   ]
  }
 ],
 "metadata": {
  "kernelspec": {
   "display_name": "Python 3",
   "language": "python",
   "name": "python3"
  },
  "language_info": {
   "codemirror_mode": {
    "name": "ipython",
    "version": 3
   },
   "file_extension": ".py",
   "mimetype": "text/x-python",
   "name": "python",
   "nbconvert_exporter": "python",
   "pygments_lexer": "ipython3",
   "version": "3.6.9"
  }
 },
 "nbformat": 4,
 "nbformat_minor": 4
}
